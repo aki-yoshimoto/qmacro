{
  "cells": [
    {
      "cell_type": "code",
      "execution_count": null,
      "metadata": {
        "colab": {
          "base_uri": "https://localhost:8080/"
        },
        "id": "DJu8plfqHwLc",
        "outputId": "1e7ea6e4-3394-47ef-f4fb-631329a3af53"
      },
      "outputs": [],
      "source": [
        "import pandas as pd\n",
        "import matplotlib.pyplot as plt\n",
        "import numpy as np\n",
        "\n",
        "# Load data\n",
        "pwt1001 = pd.read_stata('https://dataverse.nl/api/access/datafile/354098')\n",
        "#data PWT 10.01 in https://www.rug.nl/ggdc/productivity/pwt/ 1950-2019\n",
        "\n",
        "#project2 conuntry ”France”, ”Germany”, ”Canada”, ”Italy”, ”Japan”, ”United Kingdom”, ”United States”, 1995-2019\n",
        "\n",
        "# Filter and select relevant columns\n",
        "data = pwt1001.loc[pwt1001['country'].isin([\"France\", \"Germany\",\"Canada\",\"Italy\",\"Japan\",\n",
        "                                             \"United Kingdom\", \"United States\"])][\n",
        "                                                 ['year', 'country', 'rgdpna', \n",
        "                                                  'rkna','pop', 'emp','avh', 'labsh','rtfpna']]\n",
        "data = data.loc[(data['year'] >= 1995) & (data['year'] <= 2019)].dropna()\n",
        "\n",
        "\n",
        "# Calculate additional columns\n",
        "# data['labsh'] TFP share\n",
        "data['alpha'] = 1 - data['labsh'] # Capital share\n",
        "data['labor'] = data['emp'] * data['avh']  # L\n",
        "data['y_l'] = data['rgdpna'] / data['labor'] # GDP per worker Y/L\n",
        "data['y_l'] = np.log(data['y_l'])  # ln(Y/L)\n",
        "data['k_l'] = data['rkna'] / data['labor'] # Capital K/L\n",
        "data['k_l'] = np.log(data['k_l'])  # ln(K/L)\n",
        "# ln(TFP) = ln(Y/L) - alpha * ln(K/L)\n",
        "data['tfp_term'] = data['y_l'] - data['alpha'] * data['k_l'] #tfp\n",
        "data['cap_term'] = data['alpha'] * data['k_l']  # cap\n",
        "\n",
        "\n",
        "# Order by year\n",
        "data = data.sort_values('year')\n",
        "\n",
        "# Group by isocode\n",
        "grouped_data = data.groupby('country')\n",
        "\n",
        "# Calculate growth rates and Solow residual\n",
        "data['g'] = (grouped_data['y_l'].diff() * 100)  # Growth rate \n",
        "data['tfp'] = (grouped_data['tfp_term'].diff() * 100) #TFP Growth\n",
        "data['cap'] = (grouped_data['cap_term'].diff() * 100) #Capital Deepning\n",
        "\n",
        "# Remove missing values\n",
        "data = data.dropna()\n",
        "\n",
        "# Calculate summary statistics #\n",
        "summary = data.groupby('country').agg({'g': 'mean',\n",
        "                                       'alpha': \"mean\",\n",
        "                                       'labsh':\"mean\",\n",
        "                                       'tfp':'mean',\n",
        "                                       'cap':'mean'})\n",
        "\n",
        "\n",
        "# Calculate additional summary statistics\n",
        "summary['Growth Rate'] = summary['g']\n",
        "summary['TFP Growth'] = summary['tfp']\n",
        "summary['Capital Deepning']=summary['cap']\n",
        "summary['TFP Share'] = summary['labsh']\n",
        "summary['Capital Share'] = summary['alpha']\n",
        "\n",
        "# Remove unnecessary columns\n",
        "summary = summary.drop(['g', 'alpha', 'labsh', 'tfp', 'cap'], axis=1)\n",
        "\n",
        "# Print output\n",
        "print(summary)\n",
        "\n",
        "\n",
        "\n",
        "\n",
        "\n",
        "\n"
      ]
    }
  ],
  "metadata": {
    "colab": {
      "provenance": []
    },
    "kernelspec": {
      "display_name": "Python 3",
      "name": "python3"
    },
    "language_info": {
      "codemirror_mode": {
        "name": "ipython",
        "version": 3
      },
      "file_extension": ".py",
      "mimetype": "text/x-python",
      "name": "python",
      "nbconvert_exporter": "python",
      "pygments_lexer": "ipython3",
      "version": "3.11.3"
    }
  },
  "nbformat": 4,
  "nbformat_minor": 0
}
