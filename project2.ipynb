{
  "cells": [
    {
      "cell_type": "code",
      "execution_count": null,
      "metadata": {
        "colab": {
          "base_uri": "https://localhost:8080/"
        },
        "id": "DJu8plfqHwLc",
        "outputId": "1e7ea6e4-3394-47ef-f4fb-631329a3af53"
      },
      "outputs": [
        {
          "name": "stdout",
          "output_type": "stream",
          "text": [
            "                      g     alpha       tfp  Growth Rate  Capital Share  \\\n",
            "country                                                                   \n",
            "Canada         0.887700  0.346190  0.222313     0.887700       0.346190   \n",
            "France         0.829236  0.381194  0.147461     0.829236       0.381194   \n",
            "Germany        0.661055  0.370730  0.497941     0.661055       0.370730   \n",
            "Italy         -0.037181  0.484835 -1.728427    -0.037181       0.484835   \n",
            "Japan          0.710956  0.430601  0.232745     0.710956       0.430601   \n",
            "United States  1.536985  0.393260  1.005214     1.536985       0.393260   \n",
            "\n",
            "               TFP Share  \n",
            "country                   \n",
            "Canada          0.222313  \n",
            "France          0.147461  \n",
            "Germany         0.497941  \n",
            "Italy          -1.728427  \n",
            "Japan           0.232745  \n",
            "United States   1.005214  \n"
          ]
        }
      ],
      "source": [
        "import pandas as pd\n",
        "import matplotlib.pyplot as plt\n",
        "import numpy as np\n",
        "\n",
        "# Load data\n",
        "pwt1001 = pd.read_stata('https://dataverse.nl/api/access/datafile/354098')\n",
        "#data PWT 10.01 in https://www.rug.nl/ggdc/productivity/pwt/ 1950-2019\n",
        "\n",
        "#project2 conuntry ”France”, ”Germany”, ”Canada”, ”Italy”, ”Japan”, ”United Kingdom”, ”United States”, 1995-2019\n",
        "\n",
        "# Filter and select relevant columns\n",
        "data = pwt1001.loc[pwt1001['country'].isin([\"France\", \"Germany\",\"Canada\",\"Italy\",\"Japan\",\n",
        "                                             \"United Kingdam\", \"United States\"])][\n",
        "                                                 ['year', 'country', 'rgdpna', \n",
        "                                                  'rkna','pop', 'emp','avh', 'labsh','rtfpna']]\n",
        "data = data.loc[(data['year'] >= 1995) & (data['year'] <= 2019)].dropna()\n",
        "\n",
        "\n",
        "# Calculate additional columns\n",
        "data['alpha'] = 1 - data['labsh'] # Capital share\n",
        "data['y_n'] = data['rgdpna'] / data['pop'] # GDP per worker Y/N\n",
        "data['y_n'] = np.log(data['y_n'])  # ln(Y/N)\n",
        "data['hours'] = data['emp'] * data['avh']  # L\n",
        "data['lab_term'] = data['hours'] / data['pop']  # L/N\n",
        "data['lab_term'] = np. log(data['lab_term']) # ln(L/N)\n",
        "# ln(TFP) = ln(Y/N) - alpha * ln(L/N)\n",
        "data['tfp_term'] = data['y_n'] - data['alpha'] * data['lab_term'] #tfp\n",
        "data['cap_term'] = data['alpha'] * data['lab_term']  # cap\n",
        "\n",
        "\n",
        "# Order by year\n",
        "data = data.sort_values('year')\n",
        "\n",
        "# Group by isocode\n",
        "grouped_data = data.groupby('country')\n",
        "\n",
        "# Calculate growth rates and Solow residual\n",
        "data['g'] = (grouped_data['y_n'].diff() * 100)  # Growth rate \n",
        "data['tfp'] = (grouped_data['tfp_term'].diff() * 100) #TFP Growth\n",
        "data['cap'] = (grouped_data['cap_term'].diff() * 100) #Capital Deepning\n",
        "\n",
        "# Remove missing values\n",
        "data = data.dropna()\n",
        "\n",
        "# Calculate summary statistics #\n",
        "summary = data.groupby('country').agg({'g': 'mean',\n",
        "                                       'alpha': \"mean\",\n",
        "                                       'tfp':'mean',\n",
        "                                       'cap':'mean'})\n",
        "\n",
        "\n",
        "# Calculate additional summary statistics\n",
        "summary['Growth Rate'] = summary['g']\n",
        "summary['Capital Share'] = summary['alpha']\n",
        "summary['TFP Share'] = summary['tfp']\n",
        "summary['Capital Deepning']=summary['cap']\n",
        "# Print output\n",
        "print(summary)\n",
        "\n",
        "\n",
        "\n",
        "\n"
      ]
    }
  ],
  "metadata": {
    "colab": {
      "provenance": []
    },
    "kernelspec": {
      "display_name": "Python 3",
      "name": "python3"
    },
    "language_info": {
      "name": "python"
    }
  },
  "nbformat": 4,
  "nbformat_minor": 0
}
