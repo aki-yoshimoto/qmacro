{
  "nbformat": 4,
  "nbformat_minor": 0,
  "metadata": {
    "colab": {
      "provenance": [],
      "include_colab_link": true
    },
    "kernelspec": {
      "name": "python3",
      "display_name": "Python 3"
    },
    "language_info": {
      "name": "python"
    }
  },
  "cells": [
    {
      "cell_type": "markdown",
      "metadata": {
        "id": "view-in-github",
        "colab_type": "text"
      },
      "source": [
        "<a href=\"https://colab.research.google.com/github/aki-yoshimoto/qmacro/blob/main/Project2_in_googleColab.ipynb\" target=\"_parent\"><img src=\"https://colab.research.google.com/assets/colab-badge.svg\" alt=\"Open In Colab\"/></a>"
      ]
    },
    {
      "cell_type": "code",
      "execution_count": null,
      "metadata": {
        "colab": {
          "base_uri": "https://localhost:8080/"
        },
        "id": "DJu8plfqHwLc",
        "outputId": "5bf568b5-49a3-4bc9-ce22-af8f72951c68"
      },
      "outputs": [
        {
          "output_type": "stream",
          "name": "stdout",
          "text": [
            "                Growth Rate  TFP Growth  Capital Deepning  TFP Share  \\\n",
            "country                                                                \n",
            "Canada             1.117384    1.677696         -0.560312   0.653810   \n",
            "France             1.087678    0.247013          0.840665   0.618806   \n",
            "Germany            1.073874    1.409886         -0.336012   0.629270   \n",
            "Italy              0.285631   -0.256090          0.541721   0.515165   \n",
            "Japan              1.221666    2.118842         -0.897175   0.569399   \n",
            "United Kingdom     1.149943   -1.598219          2.748162   0.587007   \n",
            "United States      1.658237    1.355163          0.303074   0.606740   \n",
            "\n",
            "                Capital Share  \n",
            "country                        \n",
            "Canada               0.346190  \n",
            "France               0.381194  \n",
            "Germany              0.370730  \n",
            "Italy                0.484835  \n",
            "Japan                0.430601  \n",
            "United Kingdom       0.412993  \n",
            "United States        0.393260  \n"
          ]
        }
      ],
      "source": [
        "import pandas as pd\n",
        "import matplotlib.pyplot as plt\n",
        "import numpy as np\n",
        "\n",
        "# Load data\n",
        "pwt1001 = pd.read_stata('https://dataverse.nl/api/access/datafile/354098')\n",
        "#data PWT 10.01 in https://www.rug.nl/ggdc/productivity/pwt/ 1950-2019\n",
        "\n",
        "#project2 conuntry ”France”, ”Germany”, ”Canada”, ”Italy”, ”Japan”, ”United Kingdom”, ”United States”, 1995-2019\n",
        "\n",
        "# Filter and select relevant columns\n",
        "data = pwt1001.loc[pwt1001['country'].isin([\"France\", \"Germany\",\"Canada\",\"Italy\",\"Japan\",\n",
        "                                             \"United Kingdom\", \"United States\"])][\n",
        "                                                 ['year', 'country', 'rgdpna', \n",
        "                                                  'rkna','pop', 'emp','avh', 'labsh','rtfpna']]\n",
        "data = data.loc[(data['year'] >= 1995) & (data['year'] <= 2019)].dropna()\n",
        "\n",
        "\n",
        "# Calculate additional columns\n",
        "# data['labsh'] TFP share\n",
        "data['alpha'] = 1 - data['labsh'] # Capital share\n",
        "data['labor'] = data['emp'] * data['avh']  # L\n",
        "data['y_l'] = data['rgdpna'] / data['labor'] # GDP per worker Y/L\n",
        "data['y_l'] = np.log(data['y_l'])  # ln(Y/L)\n",
        "data['k_l'] = data['rkna'] / data['labor'] # Capital K/L\n",
        "data['k_l'] = np.log(data['k_l'])  # ln(K/L)\n",
        "# ln(TFP) = ln(Y/L) - alpha * ln(K/L)\n",
        "data['tfp_term'] = data['y_l'] - data['alpha'] * data['k_l'] #tfp\n",
        "data['cap_term'] = data['alpha'] * data['k_l']  # cap\n",
        "\n",
        "\n",
        "# Order by year\n",
        "data = data.sort_values('year')\n",
        "\n",
        "# Group by isocode\n",
        "grouped_data = data.groupby('country')\n",
        "\n",
        "# Calculate growth rates and Solow residual\n",
        "data['g'] = (grouped_data['y_l'].diff() * 100)  # Growth rate \n",
        "data['tfp'] = (grouped_data['tfp_term'].diff() * 100) #TFP Growth\n",
        "data['cap'] = (grouped_data['cap_term'].diff() * 100) #Capital Deepning\n",
        "\n",
        "# Remove missing values\n",
        "data = data.dropna()\n",
        "\n",
        "# Calculate summary statistics #\n",
        "summary = data.groupby('country').agg({'g': 'mean',\n",
        "                                       'alpha': \"mean\",\n",
        "                                       'labsh':\"mean\",\n",
        "                                       'tfp':'mean',\n",
        "                                       'cap':'mean'})\n",
        "\n",
        "\n",
        "# Calculate additional summary statistics\n",
        "summary['Growth Rate'] = summary['g']\n",
        "summary['TFP Growth'] = summary['tfp']\n",
        "summary['Capital Deepning']=summary['cap']\n",
        "summary['TFP Share'] = summary['labsh']\n",
        "summary['Capital Share'] = summary['alpha']\n",
        "\n",
        "# Remove unnecessary columns\n",
        "summary = summary.drop(['g', 'alpha', 'labsh', 'tfp', 'cap'], axis=1)\n",
        "\n",
        "# Print output\n",
        "print(summary)\n",
        "\n",
        "\n",
        "\n",
        "\n",
        "\n",
        "\n"
      ]
    },
    {
      "cell_type": "code",
      "source": [],
      "metadata": {
        "id": "9bzUPAk8P6XC"
      },
      "execution_count": null,
      "outputs": []
    }
  ]
}